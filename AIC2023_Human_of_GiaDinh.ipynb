{
  "cells": [
    {
      "cell_type": "markdown",
      "metadata": {
        "id": "view-in-github",
        "colab_type": "text"
      },
      "source": [
        "<a href=\"https://colab.research.google.com/github/minhquyminhquy/HCM-AIC---Human-of-Gia-Dinh/blob/main/AIC2023_Human_of_GiaDinh.ipynb\" target=\"_parent\"><img src=\"https://colab.research.google.com/assets/colab-badge.svg\" alt=\"Open In Colab\"/></a>"
      ]
    },
    {
      "cell_type": "markdown",
      "id": "5fcc581b",
      "metadata": {
        "id": "5fcc581b"
      },
      "source": [
        "# Hướng dẫn truy vấn dữ liệu thị giác dùng fiftyone\n",
        "\n",
        "Đây là hướng dẫn dùng cho các đội tham dự AI Challenge 2023. Hướng dẫn này nhằm mục đích giới thiệu cho các đội một phương pháp cơ bản để truy vấn dữ liệu dựa trên thông tin BTC cung cấp và giới thiệu công cụ fiftyone để hỗ trợ đội thi đánh giá kết quả.\n",
        "\n",
        "## Cài đặt ban đầu\n",
        "\n",
        "Bạn cần cài đặt môi trường để chạy được notebook này trên máy tính cá nhân của bạn. Hướng dẫn này không bao gồm phần cài đặt môi trường. Khuyến nghị: các bạn có thể cài đặt [Anaconda](https://docs.anaconda.com/free/anaconda/install/windows/).\n",
        "\n",
        "## Cài đặt các thư viện FiftyOne và PyTorch\n",
        "Hướng dẫn này dùng fiftyone là công cụ để trực quan dữ liệu và pytorch là backend chính cho các thuật toán máy học.\n",
        "\n",
        "### Lưu ý: Đối với các bạn dùng Windows nên dùng bản fiftyone **v0.21.4**, không nên dùng bản mới nhất!"
      ]
    },
    {
      "cell_type": "code",
      "execution_count": null,
      "id": "f5a576d0",
      "metadata": {
        "id": "f5a576d0"
      },
      "outputs": [],
      "source": [
        "! pip install fiftyone==0.21.4\n",
        "! pip install torch torchvision torchaudio\n"
      ]
    },
    {
      "cell_type": "markdown",
      "id": "fb9afb40",
      "metadata": {
        "id": "fb9afb40"
      },
      "source": [
        "Load dữ liệu keyframe từ thư mục chứa keyframe. Mỗi ảnh và thông tin đi kèm sau này sẽ được lưu trữ trong một Sample. Tất cả các Sample được lưu trong Dataset."
      ]
    },
    {
      "cell_type": "code",
      "execution_count": null,
      "id": "357d4489",
      "metadata": {
        "id": "357d4489"
      },
      "outputs": [],
      "source": [
        "import fiftyone as fo\n",
        "import fiftyone.brain as fob\n",
        "import numpy as np\n",
        "from glob import glob\n",
        "import json\n",
        "import os\n",
        "\n"
      ]
    },
    {
      "cell_type": "markdown",
      "id": "36b7ba43",
      "metadata": {
        "id": "36b7ba43"
      },
      "source": [
        "Load dữ liệu keyframe từ thư mục chứa keyframe. Trong hướng dẫn này tất cả các file Keyframes_L*.zip được giải nén vào thư mục `D:\\AIC\\Keyframes`. Mỗi ảnh và thông tin đi kèm sau này sẽ được lưu trữ trong một `Sample`. Tất cả các `Sample` được lưu trong `Dataset`."
      ]
    },
    {
      "cell_type": "code",
      "execution_count": null,
      "id": "9e072688",
      "metadata": {
        "id": "9e072688"
      },
      "outputs": [],
      "source": [
        "dataset = fo.Dataset.from_images_dir('D:\\\\AIC\\\\KeyFrames', name=None, tags=None, recursive=True)"
      ]
    },
    {
      "cell_type": "markdown",
      "id": "9b89e71c",
      "metadata": {
        "id": "9b89e71c"
      },
      "source": [
        "Sau khi dữ liệu đã load lên xong. Bạn có thể truy cập vào đường vào ứng dụng web của fiftyone từ [http://localhost:5151](http://localhost:5151)"
      ]
    },
    {
      "cell_type": "code",
      "execution_count": null,
      "id": "58be11b8",
      "metadata": {
        "id": "58be11b8"
      },
      "outputs": [],
      "source": [
        "session = fo.launch_app(dataset, auto=False)"
      ]
    },
    {
      "cell_type": "markdown",
      "id": "078ce744",
      "metadata": {
        "id": "078ce744"
      },
      "source": [
        "Hoặc bạn có thể chạy cell bên dưới để mở tab mới cho ứng dụng web fiftyone"
      ]
    },
    {
      "cell_type": "code",
      "execution_count": null,
      "id": "bce0d9ce",
      "metadata": {
        "id": "bce0d9ce"
      },
      "outputs": [],
      "source": [
        "session.open_tab()"
      ]
    },
    {
      "cell_type": "markdown",
      "id": "28298924",
      "metadata": {
        "id": "28298924"
      },
      "source": [
        "### Trích xuất thêm thông tin tên của video và frameid\n",
        "Thông tin `video` và `frameid` sẽ được lấy từ tên của tập tin keyframe."
      ]
    },
    {
      "cell_type": "code",
      "execution_count": null,
      "id": "a8ee02ad",
      "metadata": {
        "id": "a8ee02ad"
      },
      "outputs": [],
      "source": [
        "for sample in dataset:\n",
        "    _, sample['video'], sample['frameid'] = sample['filepath'][:-4].rsplit('\\\\', 2)\n",
        "    sample.save()"
      ]
    },
    {
      "cell_type": "markdown",
      "id": "11d66008",
      "metadata": {
        "id": "11d66008"
      },
      "source": [
        "Bạn có thể xem `Sample` đầu tiên của `Dataset` bằng lệnh sau:"
      ]
    },
    {
      "cell_type": "code",
      "execution_count": null,
      "id": "6997ef1c",
      "metadata": {
        "id": "6997ef1c"
      },
      "outputs": [],
      "source": [
        "print(dataset.first())"
      ]
    },
    {
      "cell_type": "markdown",
      "id": "4309a34f",
      "metadata": {
        "id": "4309a34f"
      },
      "source": [
        "### Thêm thông tin kết quả của object detection.\n",
        "\n",
        "Bước này có thể tốn của bạn nhiều thời gian để đọc hết tất cả các dữ liệu về object detection. Bạn có thể bỏ qua cell này và chạy cell này sau nếu muốn thử thêm các thông tin về vector CLIP embedding trước."
      ]
    },
    {
      "cell_type": "code",
      "execution_count": null,
      "id": "ad1c4395",
      "metadata": {
        "id": "ad1c4395"
      },
      "outputs": [],
      "source": [
        "for sample in dataset:\n",
        "    object_path = f\"D:\\\\AIC\\\\objects\\\\{sample['video']}\\\\{sample['frameid']}.json\"\n",
        "    with open(object_path) as jsonfile:\n",
        "        det_data = json.load(jsonfile)\n",
        "    detections = []\n",
        "    for cls, box, score in zip(det_data['detection_class_entities'], det_data['detection_boxes'], det_data['detection_scores']):\n",
        "        # Convert to [top-left-x, top-left-y, width, height]\n",
        "        boxf = [float(box[1]), float(box[0]), float(box[3]) - float(box[1]), float(box[2]) - float(box[0])]\n",
        "        scoref = float(score)\n",
        "\n",
        "        # Only add objects with confidence > 0.4\n",
        "        if scoref > 0.4:\n",
        "            detections.append(\n",
        "                fo.Detection(\n",
        "                    label=cls,\n",
        "                    bounding_box= boxf,\n",
        "                    confidence=float(score)\n",
        "                )\n",
        "            )\n",
        "    sample[\"object_faster_rcnn\"] = fo.Detections(detections=detections)\n",
        "    sample.save()\n",
        ""
      ]
    },
    {
      "cell_type": "markdown",
      "id": "e287dbb4",
      "metadata": {
        "id": "e287dbb4"
      },
      "source": [
        "### Thêm thông tin CLIP embedding."
      ]
    },
    {
      "cell_type": "code",
      "execution_count": null,
      "id": "58d5d9ca",
      "metadata": {
        "id": "58d5d9ca"
      },
      "outputs": [],
      "source": [
        "all_keyframe = glob('D:\\\\AIC\\\\Keyframes\\\\*\\\\keyframes\\\\*\\\\*.jpg')\n",
        "video_keyframe_dict = {}\n",
        "all_video = glob('D:\\\\AIC\\\\Keyframes\\\\*\\\\keyframes\\\\*')\n",
        "all_video = [v.rsplit('\\\\',1)[-1] for v in all_video]"
      ]
    },
    {
      "cell_type": "markdown",
      "id": "53460b70",
      "metadata": {
        "id": "53460b70"
      },
      "source": [
        "Đọc thông tin clip embedding được cung cấp.\n",
        "\n",
        "Lưu ý: Các bạn cần tải đúng bản CLIP embedding từ model **CLIP ViT-B/32**"
      ]
    },
    {
      "cell_type": "markdown",
      "id": "cb927629",
      "metadata": {
        "id": "cb927629"
      },
      "source": [
        "Tạo dictionary `video_keyframe_dict` với `video_keyframe_dict[video]` thông tin danh sách `keyframe` của `video`"
      ]
    },
    {
      "cell_type": "code",
      "execution_count": null,
      "id": "f33da133",
      "metadata": {
        "id": "f33da133"
      },
      "outputs": [],
      "source": [
        "for kf in all_keyframe:\n",
        "    _, vid, kf = kf[:-4].rsplit('\\\\',2)\n",
        "    if vid not in video_keyframe_dict.keys():\n",
        "        video_keyframe_dict[vid] = [kf]\n",
        "    else:\n",
        "        video_keyframe_dict[vid].append(kf)"
      ]
    },
    {
      "cell_type": "markdown",
      "id": "faefe0bf",
      "metadata": {
        "id": "faefe0bf"
      },
      "source": [
        "Do thông tin vector CLIP embedding được cung cấp được lưu theo từng video nhầm mục đích tối ưu thời gian đọc dữ liệu. Cần sort lại danh sách `keyframe` của từng `video` để đảm bảo thứ tự đọc đúng với vector embedding được cung cấp."
      ]
    },
    {
      "cell_type": "code",
      "execution_count": null,
      "id": "4b0fad7a",
      "metadata": {
        "id": "4b0fad7a"
      },
      "outputs": [],
      "source": [
        "for k,v in video_keyframe_dict.items():\n",
        "    video_keyframe_dict[k] = sorted(v)"
      ]
    },
    {
      "cell_type": "markdown",
      "id": "9d99d121",
      "metadata": {
        "id": "9d99d121"
      },
      "source": [
        "Tạo dictionary `embedding_dict` với `embedding_dict[video][keyframe]` lưu thông tin vector CLIP embedding của `keyframe` trong `video` tương ứng"
      ]
    },
    {
      "cell_type": "code",
      "execution_count": null,
      "id": "a5d94d7b",
      "metadata": {
        "id": "a5d94d7b"
      },
      "outputs": [],
      "source": [
        "embedding_dict = {}\n",
        "for v in all_video:\n",
        "    clip_path = f'D:\\\\AIC\\\\clip-features-vit-b32\\\\{v}.npy'\n",
        "    a = np.load(clip_path)\n",
        "    embedding_dict[v] = {}\n",
        "    for i,k in enumerate(video_keyframe_dict[v]):\n",
        "        embedding_dict[v][k] = a[i]\n"
      ]
    },
    {
      "cell_type": "markdown",
      "id": "5ea0432e",
      "metadata": {
        "id": "5ea0432e"
      },
      "source": [
        "Tạo danh sách `clip_embedding` ứng với danh sách `sample` trong `dataset`."
      ]
    },
    {
      "cell_type": "code",
      "execution_count": null,
      "id": "1ad16b5c",
      "metadata": {
        "id": "1ad16b5c"
      },
      "outputs": [],
      "source": [
        "clip_embeddings = []\n",
        "for sample in dataset:\n",
        "    clip_embedding = embedding_dict[sample['video']][sample['frameid']]\n",
        "    clip_embeddings.append(clip_embedding)\n"
      ]
    },
    {
      "cell_type": "code",
      "execution_count": null,
      "id": "655d2feb",
      "metadata": {
        "id": "655d2feb"
      },
      "outputs": [],
      "source": [
        "fob.compute_similarity(\n",
        "    dataset,\n",
        "    model=\"clip-vit-base32-torch\",      # store model's name for future use\n",
        "    embeddings=clip_embeddings,          # precomputed image embeddings\n",
        "    brain_key=\"img_sim\",\n",
        ")"
      ]
    },
    {
      "cell_type": "markdown",
      "id": "99223338",
      "metadata": {
        "id": "99223338"
      },
      "source": [
        "## Từ đây các bạn có thể thử các tính năng search, filter trên ứng dụng fiftyone."
      ]
    },
    {
      "cell_type": "code",
      "execution_count": null,
      "id": "46605386",
      "metadata": {
        "id": "46605386"
      },
      "outputs": [],
      "source": [
        "# Bạn cần phải cài version umap-learn hỗ trợ.\n",
        "# fob.compute_visualization(\n",
        "#     dataset,\n",
        "#     embeddings=clip_embeddings,\n",
        "#     brain_key=\"img_viz\"\n",
        "# )\n"
      ]
    },
    {
      "cell_type": "markdown",
      "id": "381972d8",
      "metadata": {
        "id": "381972d8"
      },
      "source": []
    }
  ],
  "metadata": {
    "kernelspec": {
      "display_name": "Python 3 (ipykernel)",
      "language": "python",
      "name": "python3"
    },
    "language_info": {
      "codemirror_mode": {
        "name": "ipython",
        "version": 3
      },
      "file_extension": ".py",
      "mimetype": "text/x-python",
      "name": "python",
      "nbconvert_exporter": "python",
      "pygments_lexer": "ipython3",
      "version": "3.9.17"
    },
    "colab": {
      "provenance": [],
      "include_colab_link": true
    }
  },
  "nbformat": 4,
  "nbformat_minor": 5
}